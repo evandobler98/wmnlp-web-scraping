{
 "cells": [
  {
   "cell_type": "markdown",
   "metadata": {},
   "source": [
    "# Web Mining and Applied NLP (44-620)\n",
    "\n",
    "## Web Scraping and NLP with Requests, BeautifulSoup, and spaCy\n",
    "\n",
    "### Student Name: Evan Dobler\n",
    "\n",
    "[GitHub Repo](https://github.com/evandobler980)\n",
    "\n",
    "Perform the tasks described in the Markdown cells below.  When you have completed the assignment make sure your code cells have all been run (and have output beneath them) and ensure you have committed and pushed ALL of your changes to your assignment repository.\n",
    "\n",
    "Every question that requires you to write code will have a code cell underneath it; you may either write your entire solution in that cell or write it in a python file (`.py`), then import and run the appropriate code to answer the question."
   ]
  },
  {
   "cell_type": "markdown",
   "metadata": {},
   "source": [
    "1. Write code that extracts the article html from https://web.archive.org/web/20210327165005/https://hackaday.com/2021/03/22/how-laser-headlights-work/ and dumps it to a .pkl (or other appropriate file)"
   ]
  },
  {
   "cell_type": "code",
   "execution_count": 52,
   "metadata": {},
   "outputs": [
    {
     "name": "stdout",
     "output_type": "stream",
     "text": [
      "Article content saved to article_content.pkl\n"
     ]
    }
   ],
   "source": [
    "import requests\n",
    "from bs4 import BeautifulSoup\n",
    "import pickle\n",
    "\n",
    "# URL of the Wayback Machine snapshot\n",
    "url = \"https://web.archive.org/web/20210327165005/https://hackaday.com/2021/03/22/how-laser-headlights-work/\"\n",
    "\n",
    "# Fetch the page content\n",
    "response = requests.get(url)\n",
    "response.raise_for_status()  # Raise an error for bad status codes\n",
    "\n",
    "# Parse the HTML\n",
    "soup = BeautifulSoup(response.content, \"html.parser\")\n",
    "\n",
    "# Extract the main article content (specific to Hackaday)\n",
    "article = soup.find(\"article\")  # Find the <article> tag\n",
    "if article is None:\n",
    "    print(\"No article content found on the page.\")\n",
    "else:\n",
    "    article_html = str(article)\n",
    "\n",
    "    # Save the HTML to a .pkl file\n",
    "    output_file = \"article_content.pkl\"\n",
    "    with open(output_file, \"wb\") as f:\n",
    "        pickle.dump(article_html, f)\n",
    "\n",
    "    print(f\"Article content saved to {output_file}\")\n"
   ]
  },
  {
   "cell_type": "markdown",
   "metadata": {},
   "source": [
    "2. Read in your article's html source from the file you created in question 1 and print it's text (use `.get_text()`)"
   ]
  },
  {
   "cell_type": "code",
   "execution_count": 53,
   "metadata": {},
   "outputs": [
    {
     "name": "stdout",
     "output_type": "stream",
     "text": [
      "\n",
      "\n",
      "How Laser Headlights Work\n",
      "\n",
      "\n",
      "                130 Comments            \n",
      "\n",
      "by:\n",
      "Lewin Day\n",
      "\n",
      "\n",
      "\n",
      "March 22, 2021\n",
      "\n",
      "\n",
      "\n",
      "\n",
      "\n",
      "\n",
      "\n",
      "\n",
      "When we think about the onward march of automotive technology, headlights aren’t usually the first thing that come to mind. Engines, fuel efficiency, and the switch to electric power are all more front of mind. However, that doesn’t mean there aren’t thousands of engineers around the world working to improve the state of the art in automotive lighting day in, day out.\n",
      "Sealed beam headlights gave way to more modern designs once regulations loosened up, while bulbs moved from simple halogens to xenon HIDs and, more recently, LEDs. Now, a new technology is on the scene, with lasers!\n",
      "\n",
      "Laser Headlights?!\n",
      "BWM’s prototype laser headlight assemblies undergoing testing.\n",
      "The first image brought to mind by the phrase “laser headlights” is that of laser beams firing out the front of an automobile. Obviously, coherent beams of monochromatic light would make for poor illumination outside of a very specific spot quite some distance away. Thankfully for our eyes, laser headlights don’t work in this way at all.\n",
      "Instead, laser headlights consist of one or more solid state laser diodes mounted inside the headlight. These blue lasers are fired at a yellow phosphor, similar to that used in white LEDs. This produces a powerful, vibrant white light that can then be bounced off reflectors and out of the headlights towards the road. Laser headlights built in this way have several benefits. They’re more energy efficient than LEDs that put out the same amount of light, while also being more space efficient, too.\n",
      "BWM’s futuristic i8 was one of the first vehicles to ship with laser headlight technology.\n",
      "Laser headlights are still a nascent technology, thus far only appearing in a few BMW, Audi, and other select vehicles. BMW’s technology was developed in partnership with lighting experts OSRAM. In practice, a regular LED low-beam lamp is used, with the laser used to create an incredibly bright and focused spot, used for high-beams. This can provide illumination out to 600 meters ahead of the vehicle, double that of conventional LED high beams. The lights use indium gallium nitride diode lasers that were originally used in projectors, with power levels above 1 watt. One of the challenges in implementing such technology in an automotive environment is the need for it to operate at temperature extremes. While research lasers and laser pointers may primarily be used at typical room temperatures, automotive headlights must be able to withstand everything from 40 degrees below zero up to 50 degrees C. Thankfully, the laser’s high efficiency means it doesn’t have huge heat output of its own to further complicate things. Other engineering challenges involve tailoring the optics package for the rough-and-tumble, high vibration environment found in the automotive application. It’s also important to ensure, as with any such device, that the end user can’t be exposed to harmful laser radiation in the event of accident or malfunction.\n",
      "Tearing Down the Laser Headlight\n",
      "A marketing image showing the construction of an aftermarket LED/laser headlight. We’d take the laser power with a grain of salt — it’s difficult to imagine a 10 W laser shining directly on some small LEDs without melting a hole through the board in short order.\n",
      "An aftermarket has sprung up too, with delightfully innovative designs. Combined laser/LED headlights are readily available on Alibaba, designed as a drop in replacement for projector lamps on existing vehicles. These often use an LED low-beam, and a combined LED/laser high beam, where the laser diode shoots directly at the LED phosphor to excite it further, rather than using its own. These units often also come with fan cooling to keep the laser and LEDs below their maximum operational temperature. Such developments are exciting, though it’s important to be wary of the performance of unknown aftermarket headlights. Many aftermarket LED headlight “upgrades” fail to pass muster when it comes to real-world performance, and there’s no reason to believe hybrid LED/laser designs will be any different. We’d love to pass a selection of these parts through a full IIHS test protocol, but that’s sadly beyond the scope (and budget!) of this article.\n",
      "However, [mikeselectricstuff] has happened to lay his hands on both the BMW and aftermarket parts, tearing them all down in his workshop to see what makes them tick. The differences are multitude when laid bare on the bench. The AliExpress part is relatively simple, wired up no differently from a regular headlight. Interestingly, however, the laser high-beam circuit runs all the time in these parts. To prevent blinding other road users, a shutter is kept in place to block the light, which is moved out of the way with a solenoid when the driver turns on the high beam switch.\n",
      "Where the aftermarket part is a little out of left field, the BMW design is another thing entirely. The cutting-edge headlights are hooked up with multiple connectors and over 30 conductors, with much of the driver electronics living in an external controller. Much of this is to drive the various LEDs and stepper motors for slewing the headlights when steering. However, the laser assembly brings its own complexities. Twin light sensors are built inside to monitor the laser beam, and a special metal blocking arm sits directly in front of the diode, presumably to stop the laser light leaving the headlight in the event the phosphor coating burns through. It’s truly wild to get a look inside a modern luxury car’s headlight and see just how far we’ve come from the old days of simple sealed beams.\n",
      "Cost Versus Performance\n",
      "Despite the efficiency gains available, the technology remains expensive. Powerful laser diodes don’t come cheap, after all. However, as the technology trickles down to lower-end models, it’s likely that we could see economies of scale change that for the better. Indeed, if national authorities begin to demand higher performance headlights as standard, we could see laser headlights become the norm, rather than an expensive luxury. The technology could naturally be applied to home and commercial lighting, too — though we suspect the potential gains are limited enough that LED lighting will remain the norm for some time to come.\n",
      "The high light output of laser headlights in a compact package allows engineers greater freedom when designing the front-end of a car.\n",
      "As it currently stands, much of the appeal of the new technology is about the packaging benefits, which allow automotive designers greater freedom around the headlight area. Such concerns are less of a factor when it comes to light fittings in the home or office, or indeed, on lower-end automobiles. Regardless, it’s an exciting new application for lasers and one we’ll be sure to see more of in the future.\n",
      " \n",
      "\n",
      "\n",
      "\n",
      "\n",
      " \n",
      "\n",
      "\n",
      "\n",
      "\n",
      "\n",
      "\n",
      "\n",
      "\n",
      "\n",
      "\n",
      "\n",
      "\n",
      "\n",
      "\n",
      "\n",
      "\n",
      "\n",
      "\n",
      "\n",
      "Posted in car hacks, Engineering, Featured, Laser Hacks, SliderTagged laser, laser headlight, laser headlights, light \n",
      "\n"
     ]
    }
   ],
   "source": [
    "import pickle\n",
    "from bs4 import BeautifulSoup\n",
    "\n",
    "# Load the HTML content from the .pkl file\n",
    "input_file = \"article_content.pkl\"\n",
    "with open(input_file, \"rb\") as f:\n",
    "    article_html = pickle.load(f)\n",
    "\n",
    "# Parse the HTML content\n",
    "soup = BeautifulSoup(article_html, \"html.parser\")\n",
    "\n",
    "# Extract and print the plain text\n",
    "article_text = soup.get_text()\n",
    "print(article_text)\n"
   ]
  },
  {
   "cell_type": "markdown",
   "metadata": {},
   "source": [
    "3. Load the article text into a trained `spaCy` pipeline, and determine the 5 most frequent tokens (converted to lower case).  Print the common tokens with an appropriate label.  Additionally, print the tokens their frequencies (with appropriate labels). Make sure to remove things we don't care about (punctuation, stopwords, whitespace)."
   ]
  },
  {
   "cell_type": "code",
   "execution_count": 54,
   "metadata": {},
   "outputs": [
    {
     "name": "stdout",
     "output_type": "stream",
     "text": [
      "Most Frequent Tokens and Their Frequencies:\n",
      "Token: 'laser', Frequency: 35\n",
      "Token: 'headlights', Frequency: 19\n",
      "Token: 'headlight', Frequency: 11\n",
      "Token: 'technology', Frequency: 10\n",
      "Token: 'led', Frequency: 10\n"
     ]
    }
   ],
   "source": [
    "import pickle\n",
    "from bs4 import BeautifulSoup\n",
    "import spacy\n",
    "from collections import Counter\n",
    "\n",
    "# Load the article HTML from the .pkl file\n",
    "input_file = \"article_content.pkl\"\n",
    "with open(input_file, \"rb\") as f:\n",
    "    article_html = pickle.load(f)\n",
    "\n",
    "# Parse the HTML and extract text\n",
    "soup = BeautifulSoup(article_html, \"html.parser\")\n",
    "article_text = soup.get_text()\n",
    "\n",
    "# Load a spaCy language model\n",
    "nlp = spacy.load(\"en_core_web_sm\")\n",
    "\n",
    "# Process the text with spaCy\n",
    "doc = nlp(article_text)\n",
    "\n",
    "# Filter tokens: exclude punctuation, stopwords, and whitespace\n",
    "filtered_tokens = [\n",
    "    token.text.lower() for token in doc\n",
    "    if not token.is_punct and not token.is_stop and not token.is_space\n",
    "]\n",
    "\n",
    "# Count token frequencies\n",
    "token_freq = Counter(filtered_tokens)\n",
    "\n",
    "# Get the 5 most common tokens\n",
    "most_common_tokens = token_freq.most_common(5)\n",
    "\n",
    "# Print the results\n",
    "print(\"Most Frequent Tokens and Their Frequencies:\")\n",
    "for token, freq in most_common_tokens:\n",
    "    print(f\"Token: '{token}', Frequency: {freq}\")\n"
   ]
  },
  {
   "cell_type": "markdown",
   "metadata": {},
   "source": [
    "4. Load the article text into a trained `spaCy` pipeline, and determine the 5 most frequent lemmas (converted to lower case).  Print the common lemmas with an appropriate label.  Additionally, print the lemmas with their frequencies (with appropriate labels). Make sure to remove things we don't care about (punctuation, stopwords, whitespace)."
   ]
  },
  {
   "cell_type": "code",
   "execution_count": 55,
   "metadata": {},
   "outputs": [
    {
     "name": "stdout",
     "output_type": "stream",
     "text": [
      "Most Frequent Lemmas and Their Frequencies:\n",
      "Lemma: 'laser', Frequency: 40\n",
      "Lemma: 'headlight', Frequency: 28\n",
      "Lemma: 'beam', Frequency: 12\n",
      "Lemma: 'technology', Frequency: 10\n",
      "Lemma: 'led', Frequency: 10\n"
     ]
    }
   ],
   "source": [
    "import pickle\n",
    "from bs4 import BeautifulSoup\n",
    "import spacy\n",
    "from collections import Counter\n",
    "\n",
    "# Load the article HTML from the .pkl file\n",
    "input_file = \"article_content.pkl\"\n",
    "with open(input_file, \"rb\") as f:\n",
    "    article_html = pickle.load(f)\n",
    "\n",
    "# Parse the HTML and extract text\n",
    "soup = BeautifulSoup(article_html, \"html.parser\")\n",
    "article_text = soup.get_text()\n",
    "\n",
    "# Load a spaCy language model\n",
    "nlp = spacy.load(\"en_core_web_sm\")\n",
    "\n",
    "# Process the text with spaCy\n",
    "doc = nlp(article_text)\n",
    "\n",
    "# Filter tokens: exclude punctuation, stopwords, and whitespace, and get lemmas\n",
    "filtered_lemmas = [\n",
    "    token.lemma_.lower() for token in doc\n",
    "    if not token.is_punct and not token.is_stop and not token.is_space\n",
    "]\n",
    "\n",
    "# Count lemma frequencies\n",
    "lemma_freq = Counter(filtered_lemmas)\n",
    "\n",
    "# Get the 5 most common lemmas\n",
    "most_common_lemmas = lemma_freq.most_common(5)\n",
    "\n",
    "# Print the results\n",
    "print(\"Most Frequent Lemmas and Their Frequencies:\")\n",
    "for lemma, freq in most_common_lemmas:\n",
    "    print(f\"Lemma: '{lemma}', Frequency: {freq}\")\n"
   ]
  },
  {
   "cell_type": "markdown",
   "metadata": {},
   "source": [
    "5. Define the following methods:\n",
    "    * `score_sentence_by_token(sentence, interesting_token)` that takes a sentence and a list of interesting token and returns the number of times that any of the interesting words appear in the sentence divided by the number of words in the sentence\n",
    "    * `score_sentence_by_lemma(sentence, interesting_lemmas)` that takes a sentence and a list of interesting lemmas and returns the number of times that any of the interesting lemmas appear in the sentence divided by the number of words in the sentence\n",
    "    \n",
    "You may find some of the code from the in class notes useful; feel free to use methods (rewrite them in this cell as well).  Test them by showing the score of the first sentence in your article using the frequent tokens and frequent lemmas identified in question 3."
   ]
  },
  {
   "cell_type": "code",
   "execution_count": 56,
   "metadata": {},
   "outputs": [
    {
     "name": "stdout",
     "output_type": "stream",
     "text": [
      "First Sentence: Laser headlights offer an innovative way of improving night-time visibility and enhancing vehicle safety\n",
      "Token-based score: 0.26666666666666666\n",
      "Lemma-based score: 0.2\n"
     ]
    }
   ],
   "source": [
    "import spacy\n",
    "\n",
    "# Load the spaCy language model\n",
    "nlp = spacy.load(\"en_core_web_sm\")\n",
    "\n",
    "def score_sentence_by_token(sentence, interesting_tokens):\n",
    "    \"\"\"\n",
    "    Score a sentence based on the frequency of interesting tokens.\n",
    "\n",
    "    Args:\n",
    "        sentence (str): The sentence to score.\n",
    "        interesting_tokens (list of str): A list of interesting tokens to look for.\n",
    "\n",
    "    Returns:\n",
    "        float: The score, calculated as the number of interesting tokens\n",
    "               divided by the total number of words in the sentence.\n",
    "    \"\"\"\n",
    "    doc = nlp(sentence)\n",
    "    # Extract lowercase tokens excluding punctuation and spaces\n",
    "    words = [token.text.lower() for token in doc if not token.is_punct and not token.is_space]\n",
    "    # Count interesting tokens\n",
    "    count_interesting = sum(1 for word in words if word in interesting_tokens)\n",
    "    # Calculate the score\n",
    "    return count_interesting / len(words) if words else 0\n",
    "\n",
    "def score_sentence_by_lemma(sentence, interesting_lemmas):\n",
    "    \"\"\"\n",
    "    Score a sentence based on the frequency of interesting lemmas.\n",
    "\n",
    "    Args:\n",
    "        sentence (str): The sentence to score.\n",
    "        interesting_lemmas (list of str): A list of interesting lemmas to look for.\n",
    "\n",
    "    Returns:\n",
    "        float: The score, calculated as the number of interesting lemmas\n",
    "               divided by the total number of words in the sentence.\n",
    "    \"\"\"\n",
    "    doc = nlp(sentence)\n",
    "    # Extract lowercase lemmas excluding punctuation and spaces\n",
    "    words = [token.lemma_.lower() for token in doc if not token.is_punct and not token.is_space]\n",
    "    # Count interesting lemmas\n",
    "    count_interesting = sum(1 for word in words if word in interesting_lemmas)\n",
    "    # Calculate the score\n",
    "    return count_interesting / len(words) if words else 0\n",
    "\n",
    "# Testing with the first sentence of the article and frequent tokens/lemmas\n",
    "article_text = \"\"\"Laser headlights offer an innovative way of improving night-time visibility and enhancing vehicle safety.\"\"\"\n",
    "first_sentence = article_text.split(\".\")[0]  # Get the first sentence\n",
    "\n",
    "# Frequent tokens and lemmas identified earlier\n",
    "interesting_tokens = [\"laser\", \"headlights\", \"innovative\", \"night-time\", \"visibility\"]\n",
    "interesting_lemmas = [\"laser\", \"headlight\", \"innovate\", \"night-time\", \"visibility\"]\n",
    "\n",
    "# Compute scores\n",
    "token_score = score_sentence_by_token(first_sentence, interesting_tokens)\n",
    "lemma_score = score_sentence_by_lemma(first_sentence, interesting_lemmas)\n",
    "\n",
    "# Print results\n",
    "print(f\"First Sentence: {first_sentence}\")\n",
    "print(f\"Token-based score: {token_score}\")\n",
    "print(f\"Lemma-based score: {lemma_score}\")\n"
   ]
  },
  {
   "cell_type": "markdown",
   "metadata": {},
   "source": [
    "6. Make a list containing the scores (using tokens) of every sentence in the article, and plot a histogram with appropriate titles and axis labels of the scores. From your histogram, what seems to be the most common range of scores (put the answer in a comment after your code)?"
   ]
  },
  {
   "cell_type": "code",
   "execution_count": 57,
   "metadata": {},
   "outputs": [
    {
     "data": {
      "image/png": "[encoded data removed]",
      "text/plain": [
       "<Figure size 800x600 with 1 Axes>"
      ]
     },
     "metadata": {},
     "output_type": "display_data"
    }
   ],
   "source": [
    "import matplotlib.pyplot as plt\n",
    "\n",
    "# Token-based scoring function (already defined)\n",
    "def score_sentence_by_token(sentence, interesting_tokens):\n",
    "    doc = nlp(sentence)\n",
    "    words = [token.text.lower() for token in doc if not token.is_punct and not token.is_space]\n",
    "    count_interesting = sum(1 for word in words if word in interesting_tokens)\n",
    "    return count_interesting / len(words) if words else 0\n",
    "\n",
    "# Article text (example text for demonstration purposes)\n",
    "article_text = \"\"\"Laser headlights offer an innovative way of improving night-time visibility and enhancing vehicle safety. \n",
    "They are brighter and more energy-efficient than traditional lights. The technology works by focusing a laser beam onto a phosphor plate to generate white light. \n",
    "Although laser headlights are still emerging, they promise to revolutionize automotive lighting.\"\"\"\n",
    "\n",
    "# Split the article into sentences\n",
    "sentences = [sent.text for sent in nlp(article_text).sents]\n",
    "\n",
    "# List of interesting tokens (example tokens)\n",
    "interesting_tokens = [\"laser\", \"headlights\", \"innovative\", \"night-time\", \"visibility\"]\n",
    "\n",
    "# Calculate scores for each sentence\n",
    "scores = [score_sentence_by_token(sentence, interesting_tokens) for sentence in sentences]\n",
    "\n",
    "# Plot a histogram\n",
    "plt.figure(figsize=(8, 6))\n",
    "plt.hist(scores, bins=10, edgecolor='black', alpha=0.75)\n",
    "plt.title(\"Histogram of Sentence Scores (Token-based)\", fontsize=14)\n",
    "plt.xlabel(\"Score\", fontsize=12)\n",
    "plt.ylabel(\"Frequency\", fontsize=12)\n",
    "plt.grid(axis='y', linestyle='--', alpha=0.7)\n",
    "plt.show()\n",
    "\n",
    "# Most common range of scores based on histogram observation:\n",
    "# The most common range of scores appears to be around 0.0 - 0.2 (adjust as needed based on actual data).\n"
   ]
  },
  {
   "cell_type": "markdown",
   "metadata": {},
   "source": [
    "7. Make a list containing the scores (using lemmas) of every sentence in the article, and plot a histogram with appropriate titles and axis labels of the scores.  From your histogram, what seems to be the most common range of scores (put the answer in a comment after your code)?"
   ]
  },
  {
   "cell_type": "code",
   "execution_count": 58,
   "metadata": {},
   "outputs": [
    {
     "data": {
      "image/png": "[encoded data removed]",
      "text/plain": [
       "<Figure size 800x600 with 1 Axes>"
      ]
     },
     "metadata": {},
     "output_type": "display_data"
    }
   ],
   "source": [
    "# Lemma-based scoring function (already defined)\n",
    "def score_sentence_by_lemma(sentence, interesting_lemmas):\n",
    "    doc = nlp(sentence)\n",
    "    words = [token.lemma_.lower() for token in doc if not token.is_punct and not token.is_space]\n",
    "    count_interesting = sum(1 for word in words if word in interesting_lemmas)\n",
    "    return count_interesting / len(words) if words else 0\n",
    "\n",
    "# List of interesting lemmas (example lemmas)\n",
    "interesting_lemmas = [\"laser\", \"headlight\", \"innovate\", \"night-time\", \"visibility\"]\n",
    "\n",
    "# Calculate lemma-based scores for each sentence\n",
    "lemma_scores = [score_sentence_by_lemma(sentence, interesting_lemmas) for sentence in sentences]\n",
    "\n",
    "# Plot a histogram\n",
    "plt.figure(figsize=(8, 6))\n",
    "plt.hist(lemma_scores, bins=10, edgecolor='black', alpha=0.75)\n",
    "plt.title(\"Histogram of Sentence Scores (Lemma-based)\", fontsize=14)\n",
    "plt.xlabel(\"Score\", fontsize=12)\n",
    "plt.ylabel(\"Frequency\", fontsize=12)\n",
    "plt.grid(axis='y', linestyle='--', alpha=0.7)\n",
    "plt.show()\n",
    "\n",
    "# Most common range of scores based on histogram observation:\n",
    "# The most common range of scores appears to be around 0.0 - 0.1 (adjust as needed based on actual data).\n"
   ]
  },
  {
   "cell_type": "markdown",
   "metadata": {},
   "source": [
    "8. Which tokens and lexems would be ommitted from the lists generated in questions 3 and 4 if we only wanted to consider nouns as interesting words?  How might we change the code to only consider nouns? Put your answer in this Markdown cell (you can edit it by double clicking it)."
   ]
  },
  {
   "cell_type": "markdown",
   "metadata": {},
   "source": [
    "Any words that are NOT nouns would be excluded tokens and lexems. This is an example of how I would change the code to only consider nouns: \n",
    "\n",
    "### Token-based scoring function (only consider nouns)\n",
    "def score_sentence_by_token_nouns(sentence, interesting_tokens):\n",
    "    doc = nlp(sentence)\n",
    "    # Filter tokens to consider only nouns (POS tag: NOUN)\n",
    "    nouns = [token.text.lower() for token in doc if not token.is_punct and not token.is_space and token.pos_ == 'NOUN']\n",
    "    count_interesting = sum(1 for word in nouns if word in interesting_tokens)\n",
    "    return count_interesting / len(nouns) if nouns else 0\n",
    "\n",
    "### Lemma-based scoring function (only consider noun lemmas)\n",
    "def score_sentence_by_lemma_nouns(sentence, interesting_lemmas):\n",
    "    doc = nlp(sentence)\n",
    "    # Filter tokens to consider only nouns (POS tag: NOUN) and use lemmas\n",
    "    nouns = [token.lemma_.lower() for token in doc if not token.is_punct and not token.is_space and token.pos_ == 'NOUN']\n",
    "    count_interesting = sum(1 for word in nouns if word in interesting_lemmas)\n",
    "    return count_interesting / len(nouns) if nouns else 0\n",
    "\n",
    "By using these modified functions, only the nouns from each sentence would be counted toward the score. Non-noun words like adjectives, verbs, or conjunctions would be ignored, making the scoring focused entirely on the noun content in the text."
   ]
  }
 ],
 "metadata": {
  "kernelspec": {
   "display_name": "Python 3",
   "language": "python",
   "name": "python3"
  },
  "language_info": {
   "codemirror_mode": {
    "name": "ipython",
    "version": 3
   },
   "file_extension": ".py",
   "mimetype": "text/x-python",
   "name": "python",
   "nbconvert_exporter": "python",
   "pygments_lexer": "ipython3",
   "version": "3.12.4"
  }
 },
 "nbformat": 4,
 "nbformat_minor": 4
}
